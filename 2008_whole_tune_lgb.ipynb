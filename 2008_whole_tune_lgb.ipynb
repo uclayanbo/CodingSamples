{
 "cells": [
  {
   "cell_type": "markdown",
   "metadata": {},
   "source": [
    "### Import required libraries"
   ]
  },
  {
   "cell_type": "code",
   "execution_count": 1,
   "metadata": {},
   "outputs": [],
   "source": [
    "import numpy as np\n",
    "import pandas as pd \n",
    "import os\n",
    "import gc\n",
    "import sklearn.model_selection\n",
    "from sklearn.linear_model import LinearRegression\n",
    "import lightgbm as lgb\n",
    "\n",
    "## suppress warnings\n",
    "import warnings\n",
    "warnings.filterwarnings(\"ignore\")"
   ]
  },
  {
   "cell_type": "markdown",
   "metadata": {},
   "source": [
    "### Process Whole Data"
   ]
  },
  {
   "cell_type": "code",
   "execution_count": 2,
   "metadata": {},
   "outputs": [],
   "source": [
    "csv_path = \"/export/storage_cpoliqui/data/raw/wages2008.tsv\"\n",
    "data = pd.read_csv(csv_path, sep = '\\t', header = 0)\n",
    "\n",
    "## rename all variables\n",
    "headers = [\"firm_id\", \"establishment_id\", \"year\", \"emp_present_12_31\", \"worker_id\",\n",
    "              \"avg_month_wage_in_miniwage\", \"contract_salary_rea\", \"salary_type\", \"weekly_hrs\",\n",
    "              \"occupation_code\", \"reason_leave\", \"how_worker_entered\", \"date_enter\", \"date_left\",\n",
    "              \"employment_type\", \"tenure_in_month\", \"female\", \"education_level\", \"nationality\",\n",
    "              \"race\", \"age\", \"municipality\", \"microregion\", \"corp_form\", \"industry_cnae\"]\n",
    "\n",
    "data.columns = headers\n",
    "\n",
    "\n",
    "\n",
    "## based on salary types, tranform contract salary into hourly salary\n",
    "def transform_sal(sal_type, weekly_hrs, contract_salary_rea):\n",
    "    \n",
    "    # 4.333 : monthly factor            sal_type = 1\n",
    "    # 2.1667 : biweekly factor          sal_type = 2\n",
    "    # 1 : weekly factor                 sal_type = 3\n",
    "    # 0.2 : daily factor                sal_type = 4\n",
    "    # (1/Weekly_hrs) : hourly factor    sal_type = 5\n",
    "    \n",
    "    map_a = {1:4.333, 2:2.1667, 3:1, 4:0.2, 5:(1 / Weekly_hrs)}\n",
    "    return contract_salary_rea / (weekly_hrs * map_a[sal_type])  ## unit of the returned value is\n",
    "                                                                 ## reais/ hour (hourly salary)\n",
    "## vectorize \"transform_sal\" function\n",
    "v_transform_sal = np.vectorize(transform_sal)\n",
    "\n",
    "\n",
    "\n",
    "## data wrangling process\n",
    "def process_data(data_1):\n",
    "    \n",
    "    ## exclude any variables that we won't be using for modeling\n",
    "    data_1.drop(columns = \"date_left\", inplace = True)           ## drop \"date_left\"\n",
    "    data_1.drop(columns = \"date_enter\", inplace = True)          ## drop \"date_enter\"\n",
    "    \n",
    "    ## for \"race\", replace all NA entries with the mode of race (the largest race of Brazil)\n",
    "    mode_race = data_1[\"race\"].mode()\n",
    "    data_1[\"race\"].fillna(mode_race, inplace = True)\n",
    "    \n",
    "    # drop all observations that have any NA entries\n",
    "    data_1.dropna(inplace = True)\n",
    "    \n",
    "    ## transform salary from centavos (cents) to reais (dollars)\n",
    "    data_1[\"contract_salary_rea\"] = data_1[\"contract_salary_rea\"] / 100\n",
    "    \n",
    "    ## exclude sal_type 6 & 7.\n",
    "    ## Max borrowed this step from Prof Chris's code\n",
    "    data_1 = data_1.query('salary_type<=5')\n",
    "    \n",
    "    ## exclude irrelavant firm IDs and races.\n",
    "    ## Max borrowed this step from Prof Chris's code\n",
    "    data_1 = data_1.loc[(data_1[\"firm_id\"] >= 10) & (data_1[\"race\"] != 9)]\n",
    "    \n",
    "    ## get rid of any observations with a negative salary\n",
    "    data_1 = data_1.loc[(data_1[\"contract_salary_rea\"] > 0) &\n",
    "                        (data_1[\"avg_month_wage_in_miniwage\"] >0)]\n",
    "    \n",
    "    ## compute hourly salary using \"v_transform_sal()\"\n",
    "    data_1[\"hr_salary\"] = v_transform_sal(data_1[\"salary_type\"].values,\n",
    "                                          data_1[\"weekly_hrs\"].values,\n",
    "                                          data_1[\"contract_salary_rea\"].values)\n",
    "    \n",
    "    ## take the logarithm of hourly salary\n",
    "    ## this will be our outcome variable\n",
    "    data_1.loc[:, \"hr_salary_log\"] = np.log(data_1[\"hr_salary\"])\n",
    "    \n",
    "    ## get rid of a small portion of entries where hourly salary > 1.5\n",
    "    data_1 = data_1.loc[(data_1[\"hr_salary\"] >= 1.5)]\n",
    "    ## Max consulted with Prof Chris, who agreed to exclude any observations that have\n",
    "    ## an hourly salary below the minimum wage of Brazil\n",
    "    \n",
    "    data_1 = data_1.reset_index(drop = True)\n",
    "    return data_1\n",
    "\n",
    "## the whole data is being processed\n",
    "data = process_data(data)"
   ]
  },
  {
   "cell_type": "markdown",
   "metadata": {},
   "source": [
    "### Split single-market firms and multi-market firms"
   ]
  },
  {
   "cell_type": "code",
   "execution_count": 3,
   "metadata": {},
   "outputs": [],
   "source": [
    "## set aside multi market firms from single market firms\n",
    "def Single_Multiple(data_1):\n",
    "    a = data_1.groupby([\"firm_id\"])[\"municipality\"].nunique()\n",
    "    \n",
    "    single_market_id = a.loc[a == 1]\n",
    "    multi_market_id = a.loc[a != 1]\n",
    "    multi_market_id = pd.Series(multi_market_id.index)\n",
    "    single_market_id = pd.Series(single_market_id.index)\n",
    "    \n",
    "    single_market_firm = data_1.loc[data_1['firm_id'].isin(single_market_id)]\n",
    "    multi_market_firm = data_1.loc[data_1['firm_id'].isin(multi_market_id)]\n",
    "    \n",
    "    return single_market_firm, multi_market_firm\n",
    "\n",
    "single_whole, multi_whole = Single_Multiple(data) # whole data"
   ]
  },
  {
   "cell_type": "markdown",
   "metadata": {},
   "source": [
    "### For single-market firms, split a 10% training set and a 90% testing set"
   ]
  },
  {
   "cell_type": "code",
   "execution_count": 4,
   "metadata": {},
   "outputs": [
    {
     "name": "stdout",
     "output_type": "stream",
     "text": [
      "Train: (3016748, 24) Test: (27150734, 24)\n"
     ]
    }
   ],
   "source": [
    "def get_train_test(data_1):\n",
    "    train, test = sklearn.model_selection.train_test_split(data_1, train_size = 0.1,\n",
    "                                                           test_size = 0.9,\n",
    "                                                           random_state = 42)\n",
    "    print('Train:', train.shape, 'Test:', test.shape)\n",
    "    train.reset_index(drop = True, inplace = True)\n",
    "    test.reset_index(drop = True, inplace = True)\n",
    "    \n",
    "    return train, test\n",
    "\n",
    "single_train, single_test = get_train_test(single_whole)\n",
    "\n",
    "\n",
    "\n",
    "## for LightGBM modeling, we need to exclude any variables that are closely related to\n",
    "## the outcome variable \"hr_salary_log\"\n",
    "def design_matrix(t):\n",
    "    result = t.drop(columns = [\"year\", \"worker_id\", \"avg_month_wage_in_miniwage\",\n",
    "                               \"contract_salary_rea\", \"hr_salary_log\", \"hr_salary\",\n",
    "                               \"emp_present_12_31\"])\n",
    "    \n",
    "    result.reset_index(drop = True, inplace = True)\n",
    "    return result\n",
    "\n",
    "\n",
    "\n",
    "def rmse(pred, actual):\n",
    "    return np.sqrt(np.mean((actual - pred) ** 2))"
   ]
  },
  {
   "cell_type": "markdown",
   "metadata": {},
   "source": [
    "### Transform data into LightGBM format"
   ]
  },
  {
   "cell_type": "code",
   "execution_count": 5,
   "metadata": {},
   "outputs": [],
   "source": [
    "single_train = design_matrix(single_train)\n",
    "multi_whole = design_matrix(multi_whole)\n",
    "single_test = design_matrix(single_test)"
   ]
  },
  {
   "cell_type": "markdown",
   "metadata": {},
   "source": [
    "### Find the best set of hyper-parameters for the LightGBM model"
   ]
  },
  {
   "cell_type": "code",
   "execution_count": 6,
   "metadata": {},
   "outputs": [],
   "source": [
    "def tune_lgb(data,                   ## data input, including all predictors and the outcome\n",
    "             x_var,                  ## an array predictor names\n",
    "             y_var,                  ## outcome name\n",
    "             param_arr,              ## an array of hyper-parameter sets, in the form of dictionaries\n",
    "             k_fold = 10,            ## the k for k-fold cross-validation\n",
    "             test_size = 0.33,       ## size pf the test size for cross-validation\n",
    "             random_state = 127,     ## set a random seed for the train-test splitting\n",
    "             verbose_eval = False):  ## False to turn off log output when fitting the LightGBM\n",
    "    \n",
    "    ## import required libraries\n",
    "    import pandas as pd\n",
    "    import numpy as np\n",
    "    import lightgbm as lgb\n",
    "    import sklearn.model_selection\n",
    "    \n",
    "    def rmse(pred, actual):\n",
    "        return np.sqrt(np.mean((actual - pred) ** 2))\n",
    "    \n",
    "    \n",
    "    ## seperate predictors(x) and outcome(y)\n",
    "    ## if no specific columns names for x, then use all variables\n",
    "    if len(x_var) == 0:\n",
    "        x = data.drop(columns = y_var)\n",
    "        x.reset_index(drop = True, inplace = True)\n",
    "    else:\n",
    "        x = data[x_var].drop(columns = y_var)\n",
    "        x.reset_index(drop = True, inplace = True)\n",
    "    \n",
    "    y = data[y_var]\n",
    "\n",
    "    mean_rmse = []\n",
    "    params_final = []\n",
    "    \n",
    "    ## test each set of input hyper-parameteres\n",
    "    for par in param_arr:\n",
    "        \n",
    "        params = {'boosting_type': 'gbdt',\n",
    "                  'objective': 'regression',\n",
    "                  'metric': 'rmse',\n",
    "                  'max_depth': -1,\n",
    "                  'learning_rate': 0.1,\n",
    "                  'early_stopping_round': 20,\n",
    "                  'num_leaves': 50,\n",
    "                  'verbose': -1,\n",
    "                  'num_iterations': 10000}\n",
    "        \n",
    "        params.update(par)\n",
    "        params_final.append(params)\n",
    "        \n",
    "        iter_rmse = []\n",
    "        \n",
    "        ## randomly train-test split k times, fit the model, and get a testing RMSE\n",
    "        \n",
    "        ## this will be changed to a k-fold cross-validation in the next update\n",
    "        for i in range(0, k_fold - 1):\n",
    "            \n",
    "            x_train, x_test, y_train, y_test = sklearn.model_selection.train_test_split(x, y,\n",
    "                                                                       test_size = test_size,\n",
    "                                                                       random_state = random_state + i)\n",
    "            ## tranform data into LightGBM format\n",
    "            x_train_lgb = lgb.Dataset(x_train, label = y_train)\n",
    "            \n",
    "            ## fit the model using the training set\n",
    "            model = lgb.train(params, x_train_lgb, valid_sets = x_train_lgb,\n",
    "                              verbose_eval = verbose_eval)\n",
    "            \n",
    "            ## predict using the testing set\n",
    "            pred = model.predict(x_test)\n",
    "            \n",
    "            ## store the testing RMSE\n",
    "            iter_rmse.append(rmse(pred.reshape(1, -1)[0], y_test))\n",
    "        \n",
    "        mean_rmse.append(np.mean(iter_rmse))\n",
    "    \n",
    "    ind = mean_rmse.index(np.min(mean_rmse))  ## the index of the smallest average RMSE\n",
    "    \n",
    "    print(\"A minimum mean testing RMSE of\", mean_rmse[ind], \"is given by parameter set\", ind + 1)\n",
    "    print(param_arr[ind])\n",
    "    \n",
    "    return params_final[ind] ## return a complete set of the best hyper-parameters\n"
   ]
  },
  {
   "cell_type": "markdown",
   "metadata": {},
   "source": [
    "## Try some arbitury sets of hyper-parameters"
   ]
  },
  {
   "cell_type": "markdown",
   "metadata": {},
   "source": [
    "### Get the best hyper-parameters"
   ]
  },
  {
   "cell_type": "code",
   "execution_count": 7,
   "metadata": {},
   "outputs": [
    {
     "name": "stdout",
     "output_type": "stream",
     "text": [
      "A minimum mean testing RMSE of 0.3358337566171561 is given by parameter set 6\n",
      "{'learning_rate': 0.1, 'num_leaves': 175}\n",
      "{'boosting_type': 'gbdt', 'objective': 'regression', 'metric': 'rmse', 'max_depth': -1, 'learning_rate': 0.1, 'early_stopping_round': 20, 'num_leaves': 175, 'verbose': -1, 'num_iterations': 10000}\n"
     ]
    }
   ],
   "source": [
    "params1 = {'learning_rate': 0.1, \"num_leaves\": 70}\n",
    "params2 = {'learning_rate': 0.1, \"num_leaves\": 80}\n",
    "params3 = {'learning_rate': 0.1, \"num_leaves\": 100}\n",
    "params4 = {'learning_rate': 0.1, \"num_leaves\": 125}\n",
    "params5 = {'learning_rate': 0.1, \"num_leaves\": 150}\n",
    "params6 = {'learning_rate': 0.1, \"num_leaves\": 175}\n",
    "params7 = {'learning_rate': 0.1, \"num_leaves\": 200}\n",
    "\n",
    "\n",
    "best_params = tune_lgb(data = single_train, x_var = [], y_var = \"hr_salary_log\",\n",
    "                       param_arr = [params1,params2,params3,params4,params5,params6,params7],\n",
    "                       k_fold = 2)\n",
    "\n",
    "print(best_params)"
   ]
  },
  {
   "cell_type": "markdown",
   "metadata": {},
   "source": [
    "### Fit the model with the 10% training set of single-market firms"
   ]
  },
  {
   "cell_type": "code",
   "execution_count": 8,
   "metadata": {},
   "outputs": [],
   "source": [
    "single_train_pred = single_train.drop(columns=[\"hr_salary_log\"])\n",
    "single_test_pred = single_test.drop(columns=[\"hr_salary_log\"])\n",
    "multi_whole_pred = multi_whole.drop(columns=[\"hr_salary_log\"])\n",
    "\n",
    "single_train_pred.reset_index(drop = True, inplace = True)\n",
    "single_test_pred.reset_index(drop = True, inplace = True)\n",
    "multi_whole_pred.reset_index(drop = True, inplace = True)\n",
    "\n",
    "\n",
    "single_train_lgb = lgb.Dataset(single_train_pred, label = single_train[\"hr_salary_log\"])\n",
    "\n",
    "model_lgb = lgb.train(best_params, single_train_lgb, valid_sets = single_train_lgb,\n",
    "                      verbose_eval = False)"
   ]
  },
  {
   "cell_type": "markdown",
   "metadata": {},
   "source": [
    "### Predict using the 90% testing set of single-market firms and the entire multi-market firms data"
   ]
  },
  {
   "cell_type": "code",
   "execution_count": 9,
   "metadata": {},
   "outputs": [
    {
     "name": "stdout",
     "output_type": "stream",
     "text": [
      "0.326112932380531\n",
      "0.6240823315644706\n"
     ]
    }
   ],
   "source": [
    "pred_single = model_lgb.predict(single_test_pred).reshape(1, -1)[0]   ## single-market firms, 90% testing set\n",
    "pred_multi = model_lgb.predict(multi_whole_pred).reshape(1, -1)[0]    ## multi-market firms, entire data\n",
    "\n",
    "print(rmse(pred_single, single_test[\"hr_salary_log\"]))\n",
    "print(rmse(pred_multi, multi_whole[\"hr_salary_log\"]))"
   ]
  },
  {
   "cell_type": "markdown",
   "metadata": {},
   "source": [
    "## Do multi-market firms inadequately adjust their wages across markets?"
   ]
  },
  {
   "cell_type": "markdown",
   "metadata": {},
   "source": [
    "### regression of true wage against predicted wage for multi-market firm employees"
   ]
  },
  {
   "cell_type": "code",
   "execution_count": 10,
   "metadata": {},
   "outputs": [
    {
     "data": {
      "text/html": [
       "<table class=\"simpletable\">\n",
       "<caption>OLS Regression Results</caption>\n",
       "<tr>\n",
       "  <th>Dep. Variable:</th>      <td>hr_salary_log</td>  <th>  R-squared:         </th>  <td>   0.520</td>  \n",
       "</tr>\n",
       "<tr>\n",
       "  <th>Model:</th>                   <td>OLS</td>       <th>  Adj. R-squared:    </th>  <td>   0.520</td>  \n",
       "</tr>\n",
       "<tr>\n",
       "  <th>Method:</th>             <td>Least Squares</td>  <th>  F-statistic:       </th>  <td>1.581e+07</td> \n",
       "</tr>\n",
       "<tr>\n",
       "  <th>Date:</th>             <td>Tue, 05 May 2020</td> <th>  Prob (F-statistic):</th>   <td>  0.00</td>   \n",
       "</tr>\n",
       "<tr>\n",
       "  <th>Time:</th>                 <td>02:31:15</td>     <th>  Log-Likelihood:    </th> <td>-1.3735e+07</td>\n",
       "</tr>\n",
       "<tr>\n",
       "  <th>No. Observations:</th>     <td>14609508</td>     <th>  AIC:               </th>  <td>2.747e+07</td> \n",
       "</tr>\n",
       "<tr>\n",
       "  <th>Df Residuals:</th>         <td>14609506</td>     <th>  BIC:               </th>  <td>2.747e+07</td> \n",
       "</tr>\n",
       "<tr>\n",
       "  <th>Df Model:</th>              <td>     1</td>      <th>                     </th>      <td> </td>     \n",
       "</tr>\n",
       "<tr>\n",
       "  <th>Covariance Type:</th>      <td>nonrobust</td>    <th>                     </th>      <td> </td>     \n",
       "</tr>\n",
       "</table>\n",
       "<table class=\"simpletable\">\n",
       "<tr>\n",
       "    <td></td>       <th>coef</th>     <th>std err</th>      <th>t</th>      <th>P>|t|</th>  <th>[0.025</th>    <th>0.975]</th>  \n",
       "</tr>\n",
       "<tr>\n",
       "  <th>const</th> <td>    0.1660</td> <td>    0.000</td> <td>  421.219</td> <td> 0.000</td> <td>    0.165</td> <td>    0.167</td>\n",
       "</tr>\n",
       "<tr>\n",
       "  <th>x1</th>    <td>    0.9289</td> <td>    0.000</td> <td> 3976.295</td> <td> 0.000</td> <td>    0.928</td> <td>    0.929</td>\n",
       "</tr>\n",
       "</table>\n",
       "<table class=\"simpletable\">\n",
       "<tr>\n",
       "  <th>Omnibus:</th>       <td>12516339.447</td> <th>  Durbin-Watson:     </th>   <td>   0.707</td>   \n",
       "</tr>\n",
       "<tr>\n",
       "  <th>Prob(Omnibus):</th>    <td> 0.000</td>    <th>  Jarque-Bera (JB):  </th> <td>710578834.579</td>\n",
       "</tr>\n",
       "<tr>\n",
       "  <th>Skew:</th>             <td> 3.844</td>    <th>  Prob(JB):          </th>   <td>    0.00</td>   \n",
       "</tr>\n",
       "<tr>\n",
       "  <th>Kurtosis:</th>         <td>36.290</td>    <th>  Cond. No.          </th>   <td>    5.36</td>   \n",
       "</tr>\n",
       "</table><br/><br/>Warnings:<br/>[1] Standard Errors assume that the covariance matrix of the errors is correctly specified."
      ],
      "text/plain": [
       "<class 'statsmodels.iolib.summary.Summary'>\n",
       "\"\"\"\n",
       "                            OLS Regression Results                            \n",
       "==============================================================================\n",
       "Dep. Variable:          hr_salary_log   R-squared:                       0.520\n",
       "Model:                            OLS   Adj. R-squared:                  0.520\n",
       "Method:                 Least Squares   F-statistic:                 1.581e+07\n",
       "Date:                Tue, 05 May 2020   Prob (F-statistic):               0.00\n",
       "Time:                        02:31:15   Log-Likelihood:            -1.3735e+07\n",
       "No. Observations:            14609508   AIC:                         2.747e+07\n",
       "Df Residuals:                14609506   BIC:                         2.747e+07\n",
       "Df Model:                           1                                         \n",
       "Covariance Type:            nonrobust                                         \n",
       "==============================================================================\n",
       "                 coef    std err          t      P>|t|      [0.025      0.975]\n",
       "------------------------------------------------------------------------------\n",
       "const          0.1660      0.000    421.219      0.000       0.165       0.167\n",
       "x1             0.9289      0.000   3976.295      0.000       0.928       0.929\n",
       "==============================================================================\n",
       "Omnibus:                 12516339.447   Durbin-Watson:                   0.707\n",
       "Prob(Omnibus):                  0.000   Jarque-Bera (JB):        710578834.579\n",
       "Skew:                           3.844   Prob(JB):                         0.00\n",
       "Kurtosis:                      36.290   Cond. No.                         5.36\n",
       "==============================================================================\n",
       "\n",
       "Warnings:\n",
       "[1] Standard Errors assume that the covariance matrix of the errors is correctly specified.\n",
       "\"\"\""
      ]
     },
     "execution_count": 10,
     "metadata": {},
     "output_type": "execute_result"
    }
   ],
   "source": [
    "import statsmodels.api as sm\n",
    "\n",
    "pred_multi_lm = sm.add_constant(pred_multi)\n",
    "\n",
    "lm_multi = sm.OLS(multi_whole[\"hr_salary_log\"], pred_multi_lm).fit()    # multi-market firms\n",
    "lm_multi.summary()"
   ]
  },
  {
   "cell_type": "markdown",
   "metadata": {},
   "source": [
    "### regression for single-market firm employees"
   ]
  },
  {
   "cell_type": "code",
   "execution_count": 11,
   "metadata": {},
   "outputs": [
    {
     "data": {
      "text/html": [
       "<table class=\"simpletable\">\n",
       "<caption>OLS Regression Results</caption>\n",
       "<tr>\n",
       "  <th>Dep. Variable:</th>      <td>hr_salary_log</td>  <th>  R-squared:         </th>  <td>   0.758</td>  \n",
       "</tr>\n",
       "<tr>\n",
       "  <th>Model:</th>                   <td>OLS</td>       <th>  Adj. R-squared:    </th>  <td>   0.758</td>  \n",
       "</tr>\n",
       "<tr>\n",
       "  <th>Method:</th>             <td>Least Squares</td>  <th>  F-statistic:       </th>  <td>8.506e+07</td> \n",
       "</tr>\n",
       "<tr>\n",
       "  <th>Date:</th>             <td>Tue, 05 May 2020</td> <th>  Prob (F-statistic):</th>   <td>  0.00</td>   \n",
       "</tr>\n",
       "<tr>\n",
       "  <th>Time:</th>                 <td>02:31:24</td>     <th>  Log-Likelihood:    </th> <td>-8.0982e+06</td>\n",
       "</tr>\n",
       "<tr>\n",
       "  <th>No. Observations:</th>     <td>27150734</td>     <th>  AIC:               </th>  <td>1.620e+07</td> \n",
       "</tr>\n",
       "<tr>\n",
       "  <th>Df Residuals:</th>         <td>27150732</td>     <th>  BIC:               </th>  <td>1.620e+07</td> \n",
       "</tr>\n",
       "<tr>\n",
       "  <th>Df Model:</th>              <td>     1</td>      <th>                     </th>      <td> </td>     \n",
       "</tr>\n",
       "<tr>\n",
       "  <th>Covariance Type:</th>      <td>nonrobust</td>    <th>                     </th>      <td> </td>     \n",
       "</tr>\n",
       "</table>\n",
       "<table class=\"simpletable\">\n",
       "<tr>\n",
       "    <td></td>       <th>coef</th>     <th>std err</th>      <th>t</th>      <th>P>|t|</th>  <th>[0.025</th>    <th>0.975]</th>  \n",
       "</tr>\n",
       "<tr>\n",
       "  <th>const</th> <td>   -0.0132</td> <td>    0.000</td> <td>  -84.598</td> <td> 0.000</td> <td>   -0.013</td> <td>   -0.013</td>\n",
       "</tr>\n",
       "<tr>\n",
       "  <th>x1</th>    <td>    1.0102</td> <td>    0.000</td> <td> 9222.717</td> <td> 0.000</td> <td>    1.010</td> <td>    1.010</td>\n",
       "</tr>\n",
       "</table>\n",
       "<table class=\"simpletable\">\n",
       "<tr>\n",
       "  <th>Omnibus:</th>       <td>23426348.345</td> <th>  Durbin-Watson:     </th>    <td>   2.000</td>   \n",
       "</tr>\n",
       "<tr>\n",
       "  <th>Prob(Omnibus):</th>    <td> 0.000</td>    <th>  Jarque-Bera (JB):  </th> <td>3512389485.179</td>\n",
       "</tr>\n",
       "<tr>\n",
       "  <th>Skew:</th>             <td> 3.532</td>    <th>  Prob(JB):          </th>    <td>    0.00</td>   \n",
       "</tr>\n",
       "<tr>\n",
       "  <th>Kurtosis:</th>         <td>58.271</td>    <th>  Cond. No.          </th>    <td>    5.08</td>   \n",
       "</tr>\n",
       "</table><br/><br/>Warnings:<br/>[1] Standard Errors assume that the covariance matrix of the errors is correctly specified."
      ],
      "text/plain": [
       "<class 'statsmodels.iolib.summary.Summary'>\n",
       "\"\"\"\n",
       "                            OLS Regression Results                            \n",
       "==============================================================================\n",
       "Dep. Variable:          hr_salary_log   R-squared:                       0.758\n",
       "Model:                            OLS   Adj. R-squared:                  0.758\n",
       "Method:                 Least Squares   F-statistic:                 8.506e+07\n",
       "Date:                Tue, 05 May 2020   Prob (F-statistic):               0.00\n",
       "Time:                        02:31:24   Log-Likelihood:            -8.0982e+06\n",
       "No. Observations:            27150734   AIC:                         1.620e+07\n",
       "Df Residuals:                27150732   BIC:                         1.620e+07\n",
       "Df Model:                           1                                         \n",
       "Covariance Type:            nonrobust                                         \n",
       "==============================================================================\n",
       "                 coef    std err          t      P>|t|      [0.025      0.975]\n",
       "------------------------------------------------------------------------------\n",
       "const         -0.0132      0.000    -84.598      0.000      -0.013      -0.013\n",
       "x1             1.0102      0.000   9222.717      0.000       1.010       1.010\n",
       "==============================================================================\n",
       "Omnibus:                 23426348.345   Durbin-Watson:                   2.000\n",
       "Prob(Omnibus):                  0.000   Jarque-Bera (JB):       3512389485.179\n",
       "Skew:                           3.532   Prob(JB):                         0.00\n",
       "Kurtosis:                      58.271   Cond. No.                         5.08\n",
       "==============================================================================\n",
       "\n",
       "Warnings:\n",
       "[1] Standard Errors assume that the covariance matrix of the errors is correctly specified.\n",
       "\"\"\""
      ]
     },
     "execution_count": 11,
     "metadata": {},
     "output_type": "execute_result"
    }
   ],
   "source": [
    "pred_single_lm = sm.add_constant(pred_single)\n",
    "\n",
    "lm_single = sm.OLS(single_test[\"hr_salary_log\"], pred_single_lm).fit()  # single-market firms (for comparision)\n",
    "lm_single.summary()"
   ]
  },
  {
   "cell_type": "markdown",
   "metadata": {},
   "source": [
    "## feature importance graph"
   ]
  },
  {
   "cell_type": "code",
   "execution_count": 23,
   "metadata": {},
   "outputs": [
    {
     "data": {
      "text/plain": [
       "<Figure size 1080x432 with 0 Axes>"
      ]
     },
     "metadata": {},
     "output_type": "display_data"
    },
    {
     "data": {
      "image/png": "[encoded data removed]",
      "text/plain": [
       "<Figure size 432x288 with 1 Axes>"
      ]
     },
     "metadata": {
      "needs_background": "light"
     },
     "output_type": "display_data"
    }
   ],
   "source": [
    "import matplotlib.pyplot as plt\n",
    "\n",
    "plt.figure(figsize = (15, 6))\n",
    "lgb.plot_importance(model_lgb)\n",
    "plt.savefig(\"feature_importance\", dpi = 400)"
   ]
  }
 ],
 "metadata": {
  "kernelspec": {
   "display_name": "Python 3",
   "language": "python",
   "name": "python3"
  },
  "language_info": {
   "codemirror_mode": {
    "name": "ipython",
    "version": 3
   },
   "file_extension": ".py",
   "mimetype": "text/x-python",
   "name": "python",
   "nbconvert_exporter": "python",
   "pygments_lexer": "ipython3",
   "version": "3.7.6"
  }
 },
 "nbformat": 4,
 "nbformat_minor": 4
}
